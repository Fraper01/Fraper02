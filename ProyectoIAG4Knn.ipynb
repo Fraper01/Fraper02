{
  "nbformat": 4,
  "nbformat_minor": 0,
  "metadata": {
    "colab": {
      "provenance": [],
      "authorship_tag": "ABX9TyOf8yCvktgw4B9ywz2dp926",
      "include_colab_link": true
    },
    "kernelspec": {
      "name": "python3",
      "display_name": "Python 3"
    },
    "language_info": {
      "name": "python"
    }
  },
  "cells": [
    {
      "cell_type": "markdown",
      "metadata": {
        "id": "view-in-github",
        "colab_type": "text"
      },
      "source": [
        "<a href=\"https://colab.research.google.com/github/Fraper01/Fraper02/blob/main/ProyectoIAG4Knn.ipynb\" target=\"_parent\"><img src=\"https://colab.research.google.com/assets/colab-badge.svg\" alt=\"Open In Colab\"/></a>"
      ]
    },
    {
      "cell_type": "code",
      "execution_count": 1,
      "metadata": {
        "id": "IFJnIGCDkj0v"
      },
      "outputs": [],
      "source": [
        "import pandas as pd\n",
        "import numpy as np\n",
        "import re\n",
        "from sklearn.model_selection import train_test_split, StratifiedKFold, cross_val_score\n",
        "from sklearn.preprocessing import StandardScaler\n",
        "from sklearn.neighbors import KNeighborsClassifier\n",
        "from sklearn.metrics import classification_report, pairwise_distances"
      ]
    },
    {
      "cell_type": "code",
      "source": [
        "# Fase 1. Cargar el Dataset\n",
        "data = pd.read_csv('dataset_riesgo_crediticio_con_riesgo_y_provincia_espana.csv')"
      ],
      "metadata": {
        "id": "7y8fVcSakqtv"
      },
      "execution_count": 3,
      "outputs": []
    },
    {
      "cell_type": "code",
      "source": [
        "# Fase 2: Limpieza de los Datos\n",
        "def clean_edad(edad):\n",
        "    if isinstance(edad, str):\n",
        "        edad = ''.join(filter(str.isdigit, edad))\n",
        "        return int(edad) if edad else np.nan\n",
        "    return edad\n",
        "\n",
        "def limpiar_categorica(data, columna, mapeo_estandares, mapeo_abreviaturas=None, caracteres_invalidos=None):\n",
        "    data[columna] = data[columna].str.strip().str.title()\n",
        "    for patron, estandar in mapeo_estandares.items():\n",
        "        data[columna] = data[columna].str.replace(patron, estandar, regex=True)\n",
        "    if mapeo_abreviaturas:\n",
        "        abreviaturas_regex = r'\\b(' + '|'.join(re.escape(abreviatura) for abreviatura in mapeo_abreviaturas.keys()) + r')\\b'\n",
        "        data[columna] = data[columna].str.replace(abreviaturas_regex, lambda x: mapeo_abreviaturas[x.group(0)], regex=True)\n",
        "    data[columna] = data[columna].str.replace(r' +', ' ', regex=True)\n",
        "    return data[columna]\n",
        "\n",
        "abreviaturas = {'Ing.': 'Ingeniero', 'Abog.': 'Abogado', 'Estud.': 'Estudiante', 'Comerc.': 'Comerciante', 'Técn.': 'Técnico', 'Prof.': 'Profesor'}\n",
        "historial_crediticio_mapeo = {r'\\bBuen(?:o)?\\b': 'Bueno', r'\\bMal(?:o)?\\b': 'Malo', r'\\bReg(?:ular)?\\b': 'Regular', r'\\bEx(?:celente)?(?:!)?\\b': 'Excelente', r'\\bB\\b': 'Bueno', r'\\bM\\b': 'Malo', r'\\bR\\b': 'Regular', r'\\bE\\b': 'Excelente'}\n",
        "estado_civil_mapeo = {r'\\bSol(?:tero)?\\b': 'Soltero', r'\\bCas(?:ado)?(?:\\s?\\(?C\\)?)?\\b': 'Casado', r'\\bDiv(?:orciado)?(?:-)?\\b': 'Divorciado', r'\\bVi(?:udo)?(?:\\+)?\\b': 'Viudo', r'\\bS\\b': 'Soltero', r'\\bC\\b': 'Casado', r'\\bD\\b': 'Divorciado', r'\\bV\\b': 'Viudo'}\n",
        "\n",
        "data['Edad'] = data['Edad'].apply(clean_edad).astype(int).fillna(data['Edad'].median())\n",
        "data['Ingresos mensuales'] = data['Ingresos mensuales'].round(2).fillna(data['Ingresos mensuales'].median())\n",
        "data['Porcentaje de endeudamiento'] = data['Porcentaje de endeudamiento'].fillna(data['Porcentaje de endeudamiento'].median())\n",
        "data['Dependientes'] = data['Dependientes'].fillna(data['Dependientes'].median() if data['Dependientes'].nunique() < 20 and pd.api.types.is_numeric_dtype(data['Dependientes']) else data['Dependientes'].mode()[0])\n",
        "\n",
        "data['Ocupación'] = data['Ocupación'].str.strip().str.title().replace(r'\\b(' + '|'.join(re.escape(ab) for ab in abreviaturas) + r')\\b', lambda x: abreviaturas[x.group(0)], regex=True).replace(r' +', ' ', regex=True).fillna(data['Ocupación'].mode()[0] if not data['Ocupación'].value_counts().empty else '')\n",
        "data['Historial crediticio'] = limpiar_categorica(data, 'Historial crediticio', historial_crediticio_mapeo).fillna(data['Historial crediticio'].mode()[0] if not data['Historial crediticio'].value_counts().empty else '')\n",
        "data['Nivel educativo'] = data['Nivel educativo'].str.strip().str.title().fillna(data['Nivel educativo'].mode()[0] if not data['Nivel educativo'].value_counts().empty else '')\n",
        "data['Estado civil'] = limpiar_categorica(data, 'Estado civil', estado_civil_mapeo).fillna(data['Estado civil'].mode()[0] if not data['Estado civil'].value_counts().empty else '')\n",
        "data['Provincia'] = data['Provincia'].str.strip().str.title().fillna(data['Provincia'].mode()[0] if not data['Provincia'].value_counts().empty else '')\n",
        "data['Nivel de riesgo'] = data['Nivel de riesgo'].fillna(data['Nivel de riesgo'].mode()[0] if not data['Nivel de riesgo'].value_counts().empty else '')\n",
        "\n",
        "data = pd.get_dummies(data, columns=['Ocupación', 'Nivel educativo', 'Estado civil', 'Historial crediticio', 'Provincia'], drop_first=True)\n"
      ],
      "metadata": {
        "id": "V6nzCoHulHJt"
      },
      "execution_count": 4,
      "outputs": []
    },
    {
      "cell_type": "code",
      "source": [
        "# Fase 4 Escalado de Caracteristicas KNN\n",
        "numeric_cols = data.select_dtypes(include=np.number).columns.tolist()\n",
        "if 'Nivel de riesgo' in numeric_cols:\n",
        "    numeric_cols.remove('Nivel de riesgo')\n",
        "\n",
        "scaler = StandardScaler()\n",
        "data[numeric_cols] = scaler.fit_transform(data[numeric_cols])\n",
        "\n",
        "X = data.drop('Nivel de riesgo', axis=1)\n",
        "y = data['Nivel de riesgo']"
      ],
      "metadata": {
        "id": "qCO0ojkJlPnr"
      },
      "execution_count": 5,
      "outputs": []
    },
    {
      "cell_type": "code",
      "source": [
        "# Fase 5 División de Datos\n",
        "X_train, X_test, y_train, y_test = train_test_split(X, y, test_size=0.2, random_state=42, stratify=y)\n"
      ],
      "metadata": {
        "id": "XiJA1VOFlYGj"
      },
      "execution_count": 6,
      "outputs": []
    },
    {
      "cell_type": "code",
      "source": [
        "# Fase 6 Entrenamiento del Modelo KNN\n",
        "knn = KNeighborsClassifier(n_neighbors=5)\n",
        "knn.fit(X_train, y_train)\n",
        "\n",
        "# Escalar el conjunto de entrenamiento DESPUÉS de dividirlo\n",
        "X_train_scaled = X_train.copy()\n",
        "X_train_scaled[numeric_cols] = scaler.transform(X_train[numeric_cols]) # Usamos solo transform aquí\n"
      ],
      "metadata": {
        "id": "68emuIpYlcCc"
      },
      "execution_count": 7,
      "outputs": []
    },
    {
      "cell_type": "code",
      "source": [
        "# Fase 7 Evaluación del Modelo\n",
        "y_pred = knn.predict(X_test)\n",
        "print(\"Reporte de Clasificación en el conjunto de prueba:\\n\", classification_report(y_test, y_pred))\n",
        "\n",
        "cv = StratifiedKFold(n_splits=5, shuffle=True, random_state=42)\n",
        "f1_scores_cv = cross_val_score(knn, X, y, cv=cv, scoring='f1_weighted')\n",
        "print(f\"F1-score promedio en validación cruzada: {np.mean(f1_scores_cv):.4f}\")\n"
      ],
      "metadata": {
        "colab": {
          "base_uri": "https://localhost:8080/"
        },
        "id": "g8jPAOJilgZz",
        "outputId": "701ef85e-8334-456e-cbc4-58aad4be0eb5"
      },
      "execution_count": 8,
      "outputs": [
        {
          "output_type": "stream",
          "name": "stdout",
          "text": [
            "Reporte de Clasificación en el conjunto de prueba:\n",
            "               precision    recall  f1-score   support\n",
            "\n",
            "        Alto       0.79      0.56      0.66        34\n",
            "        Bajo       0.65      0.56      0.60        57\n",
            "       Medio       0.72      0.84      0.78       109\n",
            "\n",
            "    accuracy                           0.71       200\n",
            "   macro avg       0.72      0.65      0.68       200\n",
            "weighted avg       0.72      0.71      0.71       200\n",
            "\n",
            "F1-score promedio en validación cruzada: 0.6065\n"
          ]
        }
      ]
    },
    {
      "cell_type": "code",
      "source": [
        "# Simulación de un nuevo solicitante\n",
        "nuevo_solicitante = {\n",
        "    'Edad': 20.0, 'Ingresos mensuales': 500.0, 'Dependientes': 4.0, 'Porcentaje de endeudamiento': 0.45,\n",
        "    'Ocupación_Comerciante': False, 'Ocupación_Estudiante': True, 'Ocupación_Ingeniero': False, 'Ocupación_Profesor': False, 'Ocupación_Técnico': False,\n",
        "    'Nivel educativo_Secundario': False, 'Nivel educativo_Universitario': True,\n",
        "    'Estado civil_Soltero': False,\n",
        "    'Historial crediticio_Excelente': False, 'Historial crediticio_Malo': False,\n",
        "    'Provincia_Alicante': False, 'Provincia_Badajoz': False, 'Provincia_Badalona': False, 'Provincia_Barcelona': False, 'Provincia_Bilbao': False, 'Provincia_Ceuta': False, 'Provincia_Cáceres': False, 'Provincia_Córdoba': False, 'Provincia_Elche': False, 'Provincia_Gijón': False, \"Provincia_L'Hospitalet de Llobregat\": False, 'Provincia_Las Palmas': False, 'Provincia_Madrid': True, 'Provincia_Melilla': False, 'Provincia_Murcia': False, 'Provincia_Málaga': False, 'Provincia_Palma': False, 'Provincia_Sevilla': False, 'Provincia_Valencia': False, 'Provincia_Valladolid': False, 'Provincia_Vigo': False, 'Provincia_Vitoria-Gasteiz': False, 'Provincia_Zaragoza': False\n",
        "}\n",
        "\n",
        "nuevo_solicitante_df = pd.DataFrame([nuevo_solicitante])\n",
        "nuevo_solicitante_df = nuevo_solicitante_df.reindex(columns=X_train.columns, fill_value=False)\n",
        "\n",
        "# Escalar el nuevo solicitante usando el scaler AJUSTADO con X_train\n",
        "nuevo_solicitante_scaled = scaler.transform(nuevo_solicitante_df[numeric_cols])\n",
        "\n",
        "nuevo_solicitante_final = pd.concat([pd.DataFrame(nuevo_solicitante_scaled, columns=numeric_cols, index=[0]),\n",
        "                                     nuevo_solicitante_df.drop(columns=numeric_cols, errors='ignore', axis=1)], axis=1)\n",
        "\n",
        "distancias = pairwise_distances(nuevo_solicitante_final, X_train_scaled)\n",
        "indice_vecino_mas_cercano = np.argmin(distancias)\n",
        "riesgo_vecino_mas_cercano = y_train.iloc[indice_vecino_mas_cercano]\n",
        "\n",
        "k = knn.n_neighbors\n",
        "indices_vecinos_cercanos = np.argsort(distancias)[0][:k]\n",
        "riesgos_vecinos_cercanos = y_train.iloc[indices_vecinos_cercanos].values\n",
        "\n",
        "print(f\"\\n--- Análisis del Nuevo Solicitante ---\")\n",
        "print(f\"Índice del vecino más cercano en X_train: {indice_vecino_mas_cercano}\")\n",
        "print(f\"Nivel de riesgo del vecino más cercano: {riesgo_vecino_mas_cercano}\")\n",
        "print(f\"Índices de los {k} vecinos más cercanos en X_train: {indices_vecinos_cercanos}\")\n",
        "print(f\"Niveles de riesgo de los {k} vecinos más cercanos: {riesgos_vecinos_cercanos}\")\n",
        "print(f\"Predicción del modelo: {knn.predict(nuevo_solicitante_final)}\")\n",
        "print(f\"\\nValores escalados del nuevo solicitante (solo numéricas):\\n\", nuevo_solicitante_scaled)\n",
        "print(f\"Nombres de las columnas numéricas (escaladas):\\n\", numeric_cols)\n",
        "\n",
        "prediccion = knn.predict(nuevo_solicitante_final)\n",
        "print(\"\\nPredicción del nivel de riesgo para el nuevo solicitante:\", prediccion)\n"
      ],
      "metadata": {
        "colab": {
          "base_uri": "https://localhost:8080/"
        },
        "id": "XbGnJHEXlpba",
        "outputId": "57617b62-31ad-4ad8-ce92-07437811ed19"
      },
      "execution_count": 10,
      "outputs": [
        {
          "output_type": "stream",
          "name": "stdout",
          "text": [
            "\n",
            "--- Análisis del Nuevo Solicitante ---\n",
            "Índice del vecino más cercano en X_train: 681\n",
            "Nivel de riesgo del vecino más cercano: Bajo\n",
            "Índices de los 5 vecinos más cercanos en X_train: [681 571 441 567 395]\n",
            "Niveles de riesgo de los 5 vecinos más cercanos: ['Bajo' 'Medio' 'Bajo' 'Bajo' 'Medio']\n",
            "Predicción del modelo: ['Bajo']\n",
            "\n",
            "Valores escalados del nuevo solicitante (solo numéricas):\n",
            " [[-1.62845428 -2.18771567  1.40913398 -1.68805392]]\n",
            "Nombres de las columnas numéricas (escaladas):\n",
            " ['Edad', 'Ingresos mensuales', 'Dependientes', 'Porcentaje de endeudamiento']\n",
            "\n",
            "Predicción del nivel de riesgo para el nuevo solicitante: ['Bajo']\n"
          ]
        }
      ]
    },
    {
      "cell_type": "code",
      "source": [
        "import joblib\n",
        "\"\"\"\n",
        "joblib está optimizada para guardar y cargar objetos de Python que contienen grandes arrays numéricos,\n",
        "como los modelos de scikit-learn y los objetos de preprocesamiento.\n",
        "\"\"\"\n",
        "# Guardar el modelo KNN entrenado\n",
        "\n",
        "joblib.dump(knn, 'ProyectoIAGrupo4modelo.joblib')\n",
        "print(\"Modelo KNN guardado como ProyectoIAGrupo4modelo.joblib\")\n",
        "\n",
        "# Guardar el objeto StandardScaler ajustado\n",
        "joblib.dump(scaler, 'ProyectoIAGrupo4scaler.joblib')\n",
        "print(\"Scaler guardado como ProyectoIAGrupo4scaler.joblib\")\n",
        "\n",
        "# Guardar los nombres de las columnas de X_train\n",
        "joblib.dump(X_train.columns.tolist(), 'ProyectoIAGrupo4columns.joblib')\n",
        "print(\"Nombres de las características guardados como ProyectoIAGrupo4columns.joblib\")\n",
        "\n",
        "# Guardar el conjunto de entrenamiento escalado\n",
        "joblib.dump(X_train_scaled, 'ProyectoIAGrupo4_X_train_scaled.joblib')\n",
        "print(\"Conjunto de entrenamiento escalado guardado como ProyectoIAGrupo4_X_train_scaled.joblib\")\n",
        "\n",
        "# Guardar las etiquetas del conjunto de entrenamiento\n",
        "joblib.dump(y_train, 'ProyectoIAGrupo4_y_train.joblib')\n",
        "print(\"Etiquetas del conjunto de entrenamiento guardadas como ProyectoIAGrupo4_y_train.joblib\")\n",
        "\n",
        "# Guardar los nombres de las columnas numéricas\n",
        "joblib.dump(numeric_cols, 'ProyectoIAGrupo4_numeric_cols.joblib')\n",
        "print(\"Nombres de las columnas numéricas guardados como ProyectoIAGrupo4_numeric_cols.joblib\")\n",
        "\n",
        "print(\"Nombres de las características guardados como ProyectoIAGrupo4columns.joblib\")\n",
        "\n",
        "# ... (El resto de tu código) .."
      ],
      "metadata": {
        "colab": {
          "base_uri": "https://localhost:8080/"
        },
        "id": "_dLQ93BQmJF8",
        "outputId": "29e23183-a748-4d7e-f262-83c12895017c"
      },
      "execution_count": 11,
      "outputs": [
        {
          "output_type": "stream",
          "name": "stdout",
          "text": [
            "Modelo KNN guardado como ProyectoIAGrupo4modelo.joblib\n",
            "Scaler guardado como ProyectoIAGrupo4scaler.joblib\n",
            "Nombres de las características guardados como ProyectoIAGrupo4columns.joblib\n",
            "Conjunto de entrenamiento escalado guardado como ProyectoIAGrupo4_X_train_scaled.joblib\n",
            "Etiquetas del conjunto de entrenamiento guardadas como ProyectoIAGrupo4_y_train.joblib\n",
            "Nombres de las columnas numéricas guardados como ProyectoIAGrupo4_numeric_cols.joblib\n",
            "Nombres de las características guardados como ProyectoIAGrupo4columns.joblib\n"
          ]
        }
      ]
    }
  ]
}